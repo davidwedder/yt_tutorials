{
  "nbformat": 4,
  "nbformat_minor": 0,
  "metadata": {
    "colab": {
      "name": "ProjetoPlantaIris.ipynb",
      "private_outputs": true,
      "provenance": [],
      "authorship_tag": "ABX9TyND/ZM06GPgabo9730acvZO",
      "include_colab_link": true
    },
    "kernelspec": {
      "name": "python3",
      "display_name": "Python 3"
    },
    "language_info": {
      "name": "python"
    }
  },
  "cells": [
    {
      "cell_type": "markdown",
      "metadata": {
        "id": "view-in-github",
        "colab_type": "text"
      },
      "source": [
        "<a href=\"https://colab.research.google.com/github/davidwedder/yt_tutorials/blob/master/ProjetoPlantaIris.ipynb\" target=\"_parent\"><img src=\"https://colab.research.google.com/assets/colab-badge.svg\" alt=\"Open In Colab\"/></a>"
      ]
    },
    {
      "cell_type": "code",
      "metadata": {
        "id": "hPemBdo7rKrH"
      },
      "source": [
        "# Importando o dataset:\n",
        "import pandas as pd\n",
        "dataset = pd.read_csv(\"http://archive.ics.uci.edu/ml/machine-learning-databases/iris/iris.data\")\n",
        "dataset.head()"
      ],
      "execution_count": null,
      "outputs": []
    },
    {
      "cell_type": "code",
      "metadata": {
        "id": "ESTUnetNsQsO"
      },
      "source": [
        "\n",
        "# Criando previsores e classe.\n",
        "previsores = dataset.iloc[:,0:4]\n",
        "classe = dataset.iloc[:,4]\n",
        "\n",
        "previsores"
      ],
      "execution_count": null,
      "outputs": []
    },
    {
      "cell_type": "code",
      "metadata": {
        "id": "4AF_E_R-xPDL"
      },
      "source": [
        "# Tratando os dados: Convertendo dados categóricos de var \"classe\" para núemrico com labelEncoder\n",
        "from sklearn.preprocessing import LabelEncoder\n",
        "label_classe = LabelEncoder()\n",
        "\n",
        "classe = label_classe.fit_transform(classe)\n",
        "classe"
      ],
      "execution_count": null,
      "outputs": []
    },
    {
      "cell_type": "code",
      "metadata": {
        "id": "gRTUalr8zRW6"
      },
      "source": [
        "\n",
        "# Escalonamento dos atributos (Pré-processamento), padronização de previsores\n",
        "from sklearn.preprocessing import StandardScaler\n",
        "scaler = StandardScaler()\n",
        "\n",
        "previsores = scaler.fit_transform(previsores)\n",
        "# Mostrando 10 previsores\n",
        "print(previsores[0:10])"
      ],
      "execution_count": null,
      "outputs": []
    },
    {
      "cell_type": "code",
      "metadata": {
        "id": "Ol65pkLxj1yd"
      },
      "source": [
        "# Treinamento, teste e classificação\n",
        "from sklearn.model_selection import train_test_split\n",
        "\n",
        "x_train, x_test, y_train, y_test = train_test_split(previsores, classe, test_size = 0.5, random_state=0)"
      ],
      "execution_count": null,
      "outputs": []
    },
    {
      "cell_type": "code",
      "metadata": {
        "id": "w7hN0j90j4tH"
      },
      "source": [
        "# Classificação\n",
        "from sklearn.naive_bayes import GaussianNB\n",
        "classificador = GaussianNB()\n",
        "\n",
        "classificador.fit(x_train, y_train)\n",
        "previsores = classificador.predict(x_test)"
      ],
      "execution_count": null,
      "outputs": []
    },
    {
      "cell_type": "code",
      "metadata": {
        "id": "6kTmgZxvj6OV"
      },
      "source": [
        "\n",
        "# Medindo o desempenho de GaussianNB\n",
        "from sklearn.metrics import confusion_matrix, precision_score, accuracy_score, recall_score\n",
        "# Matriz de confusão\n",
        "matriz = confusion_matrix(y_test, previsores)\n",
        "print(\"Matriz de confusão: \\n\", matriz)\n",
        "\n",
        "\n",
        "# Acuracia\n",
        "acuracia = accuracy_score(y_test,previsores)\n",
        "print(\"\\nAcurácia: \", acuracia)\n",
        "\n",
        "# Precisão\n",
        "precision = precision_score(y_test,previsores, average=None)\n",
        "print(\"Precision: \", precision )\n",
        "\n",
        "# Recall\n",
        "recall = recall_score(y_test,previsores,average=None)\n",
        "print(\"Recall: \", recall)"
      ],
      "execution_count": null,
      "outputs": []
    },
    {
      "cell_type": "code",
      "metadata": {
        "id": "ogPHwrEYj_Uk"
      },
      "source": [
        "# Aplicando RandomForest:\n",
        "from sklearn.ensemble import RandomForestRegressor\n",
        "# Ja importamos o train_test_split\n",
        "from sklearn.metrics import mean_squared_error\n",
        "\n",
        "nodes = RandomForestRegressor(n_estimators=50, random_state=0, n_jobs=-1)\n",
        "\n",
        "nodes.fit(x_train, y_train)\n",
        "predict_one = nodes.predict(x_test)\n",
        "\n",
        "# Captura de erro:\n",
        "# Este é valor do erro da nossa árvore.\n",
        "np.sqrt(mean_squared_error(y_test, predict_one))"
      ],
      "execution_count": null,
      "outputs": []
    }
  ]
}