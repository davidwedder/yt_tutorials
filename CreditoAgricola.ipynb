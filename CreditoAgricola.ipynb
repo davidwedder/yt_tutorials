{
  "nbformat": 4,
  "nbformat_minor": 0,
  "metadata": {
    "colab": {
      "name": "CreditoAgricola.ipynb",
      "private_outputs": true,
      "provenance": [],
      "authorship_tag": "ABX9TyOw2WP042zbOZ4t07dCQAzg",
      "include_colab_link": true
    },
    "kernelspec": {
      "name": "python3",
      "display_name": "Python 3"
    },
    "language_info": {
      "name": "python"
    }
  },
  "cells": [
    {
      "cell_type": "markdown",
      "metadata": {
        "id": "view-in-github",
        "colab_type": "text"
      },
      "source": [
        "<a href=\"https://colab.research.google.com/github/davidwedder/yt_tutorials/blob/master/CreditoAgricola.ipynb\" target=\"_parent\"><img src=\"https://colab.research.google.com/assets/colab-badge.svg\" alt=\"Open In Colab\"/></a>"
      ]
    },
    {
      "cell_type": "code",
      "metadata": {
        "id": "NPgqKnPfUfZb"
      },
      "source": [
        "import pandas as pd\n",
        "\n",
        "dataset = pd.read_csv(\"./credit-data.csv\")\n",
        "\n",
        "dataset.head()"
      ],
      "execution_count": null,
      "outputs": []
    },
    {
      "cell_type": "code",
      "metadata": {
        "id": "FZBU77hwhyAQ"
      },
      "source": [
        "\n",
        "# Localizar index que desejo remover\n",
        "negative_age = dataset.loc[(dataset['age']) <= 0]\n",
        "negative_age\n",
        "\n",
        "# removendo 3 index \n",
        "ds2 = dataset.drop(index=[15,21,26])\n",
        "# Validação se foram removidos\n",
        "# ds2.loc[(dataset['age']) <= 0]\n",
        "ds2.info()"
      ],
      "execution_count": null,
      "outputs": []
    },
    {
      "cell_type": "code",
      "metadata": {
        "id": "lGyXbayEh1JL"
      },
      "source": [
        "# Calculando a mediana de age\n",
        "age_median = ds2.age.median()\n",
        "age_median\n",
        "# Substituir os valores nulos pela mediana\n",
        "ds2.fillna(age_median, inplace=True)\n",
        "# Checa valores nulos\n",
        "ds2.age.isnull().sum()"
      ],
      "execution_count": null,
      "outputs": []
    },
    {
      "cell_type": "code",
      "metadata": {
        "id": "RL6gyOs3h30U"
      },
      "source": [
        "# Calculando a média em Age\n",
        "ds2.age.mean()"
      ],
      "execution_count": null,
      "outputs": []
    },
    {
      "cell_type": "code",
      "metadata": {
        "id": "xxkcPOk8h6ZE"
      },
      "source": [
        "# Valores mais frequentes:\n",
        "print(ds2.age.value_counts())"
      ],
      "execution_count": null,
      "outputs": []
    },
    {
      "cell_type": "code",
      "metadata": {
        "id": "I8pX_-vAh91t"
      },
      "source": [
        "# Substituir os valores negativos pela mediana\n",
        "dataset.iloc[[15,21,26],2] = 41.382673\n",
        "# Validando se ainda tem algum negativo\n",
        "dataset.loc[(dataset['age']) <= 0]\n",
        "# Validando se ainda tema algum nulo\n",
        "dataset.age.isnull().sum()\n",
        "# Substituir os valores nulos pela mediana\n",
        "dataset.fillna(age_median, inplace=True)\n",
        "# Validando se ainda tema algum nulo\n",
        "print(\"valores nulos de clientid:\", dataset.clientid.isnull().sum())\n",
        "print(\"valores nulos de Income:\", dataset.income.isnull().sum())\n",
        "print(\"valores nulos de Age:\", dataset.age.isnull().sum())\n",
        "print(\"valores nulos de loan:\", dataset.age.isnull().sum())"
      ],
      "execution_count": null,
      "outputs": []
    },
    {
      "cell_type": "code",
      "metadata": {
        "id": "Y9U1MCmviEyV"
      },
      "source": [
        "previsores = dataset.iloc[:,0:3].values\n",
        "classe = dataset.iloc[:,4].values\n",
        "from sklearn.preprocessing import StandardScaler\n",
        "previsores = StandardScaler().fit_transform(previsores)"
      ],
      "execution_count": null,
      "outputs": []
    },
    {
      "cell_type": "code",
      "metadata": {
        "id": "tt4a7w06iiQE"
      },
      "source": [
        "# Aplicando o classificador\n",
        "from sklearn.model_selection import train_test_split\n",
        "previsores_treinamento, previsores_teste, classe_treinamento, classe_teste = train_test_split(previsores,classe,test_size = 0.25, random_state=0)\n",
        "\n",
        "from sklearn.naive_bayes import GaussianNB\n",
        "classificador = GaussianNB()\n",
        "\n",
        "classificador.fit(previsores_treinamento, classe_treinamento)\n",
        "previsores = classificador.predict(previsores_teste)\n",
        "\n",
        "\n",
        "from sklearn.metrics import confusion_matrix, accuracy_score\n",
        "# Matriz de confusão\n",
        "matriz = confusion_matrix(classe_teste, previsores)\n",
        "print(\"Matriz de confusão: \\n\", matriz)\n",
        "\n",
        "\n",
        "# Acuracia\n",
        "precisao = accuracy_score(classe_teste,previsores)\n",
        "print(\"\\nPrecisão: \", precisao)"
      ],
      "execution_count": null,
      "outputs": []
    }
  ]
}